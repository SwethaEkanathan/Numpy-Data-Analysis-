{
 "cells": [
  {
   "cell_type": "markdown",
   "metadata": {
    "id": "KdERlTpFuL5V"
   },
   "source": [
    "# Exercises"
   ]
  },
  {
   "cell_type": "markdown",
   "metadata": {
    "id": "to-gsrQyuL5Z"
   },
   "source": [
    "### #1 - Calculate the BMI (body mass index) on the two lists below using NDArrays..."
   ]
  },
  {
   "cell_type": "code",
   "execution_count": 1,
   "metadata": {
    "id": "iZlf9DzeuL5a"
   },
   "outputs": [
    {
     "name": "stdout",
     "output_type": "stream",
     "text": [
      "BMI values: [16.86620458 17.87755102 18.82562984 19.71450617 20.54794521 21.32943755\n",
      " 22.06222222]\n"
     ]
    }
   ],
   "source": [
    "import numpy as np\n",
    "# formula = weight / (height**2) * 730\n",
    "height = [69, 70, 71, 72, 73, 74, 75]\n",
    "weight = [110, 120, 130, 140, 150, 160, 170]\n",
    "\n",
    "height = np.array(height)\n",
    "weight = np.array(weight)\n",
    "\n",
    "bmi = weight / (height**2) * 730\n",
    "\n",
    "# Print the calculated BMI\n",
    "print(\"BMI values:\", bmi)"
   ]
  },
  {
   "cell_type": "markdown",
   "metadata": {
    "id": "RSsT8w8ouL5b"
   },
   "source": [
    "### #2 - Create a function that will take in two parameters and will create a random matrix based off of those parameters. Extra: Have additional parameters taken in that allow the user to choose the shape and data type of the matrix."
   ]
  },
  {
   "cell_type": "code",
   "execution_count": 2,
   "metadata": {
    "id": "ygFvj0aeuL5b"
   },
   "outputs": [
    {
     "name": "stdout",
     "output_type": "stream",
     "text": [
      "[[0.62398848 1.10165273 0.40839057]\n",
      " [0.92072537 1.8684977  1.67352932]\n",
      " [0.61855927 0.85374998 1.52588199]\n",
      " [0.37627879 0.3116001  0.06784056]\n",
      " [0.33057259 1.84824308 1.32962797]]\n"
     ]
    }
   ],
   "source": [
    "import numpy as np\n",
    "\n",
    "def create_random_matrix(rows, columns, min_value, max_value, dtype=\"float64\"):\n",
    "    \"\"\"\n",
    "    Creates a random matrix with specified parameters.\n",
    "\n",
    "    Args:\n",
    "        rows: Number of rows in the matrix.\n",
    "        columns: Number of columns in the matrix.\n",
    "        min_value: Minimum value for random numbers in the matrix.\n",
    "        max_value: Maximum value for random numbers in the matrix.\n",
    "        dtype: Data type of the matrix (default: \"float64\").\n",
    "\n",
    "    Returns:\n",
    "        A NumPy array representing the random matrix.\n",
    "    \"\"\"\n",
    "\n",
    "    # Validate parameters\n",
    "    if rows <= 0 or columns <= 0:\n",
    "        raise ValueError(\"Rows and columns must be positive integers.\")\n",
    "    if min_value >= max_value:\n",
    "        raise ValueError(\"Minimum value must be less than maximum value.\")\n",
    "\n",
    "    # Generate random values within the specified range\n",
    "    data = np.random.uniform(min_value, max_value, size=(rows, columns))\n",
    "\n",
    "    # Convert data type if necessary\n",
    "    if dtype != data.dtype:\n",
    "        data = data.astype(dtype)\n",
    "\n",
    "    return data\n",
    "\n",
    "matrix = create_random_matrix(5, 3, 0, 2, dtype=\"float\")\n",
    "print(matrix)\n"
   ]
  },
  {
   "cell_type": "markdown",
   "metadata": {
    "id": "e5mP1UX9uL5c"
   },
   "source": [
    "### #3 - Extra: Open and load the data in the two text files that have the Boston Red Sox hitting data for the past seasons. Compare the difference in the two years by putting the data into an NDArray and running a differencial operation on it. The column to look for will be SLG.\n",
    "\n",
    "Your output should display which year (either 2017 or 2018) was a better year based on SLG"
   ]
  },
  {
   "cell_type": "code",
   "execution_count": 6,
   "metadata": {
    "id": "iAExC-SjuL5c"
   },
   "outputs": [],
   "source": [
    "import csv\n",
    "import numpy as np\n",
    "import pandas as pd\n",
    "\n"
   ]
  },
  {
   "cell_type": "code",
   "execution_count": 4,
   "metadata": {
    "id": "P8Rwr8lmuL5e"
   },
   "outputs": [],
   "source": [
    "FIELDS = ['Rk', 'Pos', 'Name', 'Age', 'G', 'PA', 'AB', 'R', 'H', '2B', '3B', 'HR', 'RBI', 'SB', 'CS', \n",
    "          'BB', 'SO', 'BA', 'OBP', 'SLG', 'OPS', 'OPS+', 'TB', 'GDP', 'HBP', 'SH', 'SF', 'IBB']\n",
    "\n",
    "DATATYPES = [('rk', 'i'), ('pos', '|S25'), ('name', '|S25'), ('age', 'i'), ('g', 'i'), ('pa', 'i'), ('ab', 'i'),\n",
    "                ('r', 'i'), ('h', 'i'), ('2b', 'i'), ('3b', 'i'), ('hr', 'i'), ('rbi', 'i'), ('sb', 'i'), ('cs', 'i'),\n",
    "                ('bb', 'i'), ('so', 'i'), ('ba', 'f'), ('obp', 'f'), ('slg', 'f'), ('ops', 'f'), ('opsp', 'i'),\n",
    "                ('tb', 'i'), ('gdp', 'i'), ('hbp', 'i'), ('sh', 'i'), ('sf', 'i'), ('ibb', 'i')]\n",
    "\n",
    "#Use this function to actually open the data inside of a NDArray\n",
    "\n",
    "\n"
   ]
  },
  {
   "cell_type": "code",
   "execution_count": 7,
   "metadata": {},
   "outputs": [
    {
     "name": "stdout",
     "output_type": "stream",
     "text": [
      "2018 was a better year based on SLG.\n"
     ]
    }
   ],
   "source": [
    "redsox_2017 = 'redsox_2017_hitting.txt'  \n",
    "redsox_2018 = 'redsox_2018_hitting.txt'  \n",
    "\n",
    "df_2017 = pd.read_csv(redsox_2017, delimiter=',')  \n",
    "df_2018 = pd.read_csv(redsox_2018, delimiter=',')  \n",
    "\n",
    "# Extract SLG column for 2017 and 2018\n",
    "slg_2017 = df_2017['SLG'].values\n",
    "slg_2018 = df_2018['SLG'].values\n",
    "\n",
    "# # Convert SLG values to NumPy arrays\n",
    "slg_array_2017 = np.array(slg_2017, dtype=float)\n",
    "slg_array_2018 = np.array(slg_2018, dtype=float)\n",
    "\n",
    "# Ensures that both SLG arrays have the same length before attempting the subtraction operation. \n",
    "# Adjustments are made to trim the longer array to the length of the shorter one.\n",
    "min_length = min(len(slg_array_2017), len(slg_array_2018))\n",
    "slg_array_2017 = slg_array_2017[:min_length]\n",
    "slg_array_2018 = slg_array_2018[:min_length]\n",
    "\n",
    "# # Perform differential operation\n",
    "slg_difference = slg_array_2018 - slg_array_2017\n",
    "\n",
    "# # Display the result\n",
    "if np.sum(slg_difference) > 0:\n",
    "    print(\"2018 was a better year based on SLG.\")\n",
    "elif np.sum(slg_difference) < 0:\n",
    "    print(\"2017 was a better year based on SLG.\")\n",
    "else:\n",
    "    print(\"No significant difference in SLG between 2017 and 2018.\")"
   ]
  }
 ],
 "metadata": {
  "colab": {
   "name": "Copy of Data_Science_Day_1_Exercises-Day1- Homework.ipynb",
   "provenance": []
  },
  "kernelspec": {
   "display_name": "Python 3 (ipykernel)",
   "language": "python",
   "name": "python3"
  },
  "language_info": {
   "codemirror_mode": {
    "name": "ipython",
    "version": 3
   },
   "file_extension": ".py",
   "mimetype": "text/x-python",
   "name": "python",
   "nbconvert_exporter": "python",
   "pygments_lexer": "ipython3",
   "version": "3.11.5"
  }
 },
 "nbformat": 4,
 "nbformat_minor": 1
}
